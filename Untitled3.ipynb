{
 "cells": [
  {
   "cell_type": "code",
   "execution_count": 1,
   "metadata": {},
   "outputs": [],
   "source": [
    "import numpy as np\n",
    "import pandas as pd\n",
    "\n"
   ]
  },
  {
   "cell_type": "code",
   "execution_count": 2,
   "metadata": {},
   "outputs": [
    {
     "ename": "NameError",
     "evalue": "name 'df' is not defined",
     "output_type": "error",
     "traceback": [
      "\u001b[1;31m---------------------------------------------------------------------------\u001b[0m",
      "\u001b[1;31mNameError\u001b[0m                                 Traceback (most recent call last)",
      "\u001b[1;32m<ipython-input-2-d88424442c5c>\u001b[0m in \u001b[0;36m<module>\u001b[1;34m\u001b[0m\n\u001b[1;32m----> 1\u001b[1;33m \u001b[0mgrouped_single\u001b[0m \u001b[1;33m=\u001b[0m \u001b[0mdf\u001b[0m\u001b[1;33m.\u001b[0m\u001b[0mgroupby\u001b[0m\u001b[1;33m(\u001b[0m\u001b[1;34m'School'\u001b[0m\u001b[1;33m)\u001b[0m\u001b[1;33m\u001b[0m\u001b[1;33m\u001b[0m\u001b[0m\n\u001b[0m",
      "\u001b[1;31mNameError\u001b[0m: name 'df' is not defined"
     ]
    }
   ],
   "source": [
    "grouped_single = df.groupby('School')"
   ]
  },
  {
   "cell_type": "code",
   "execution_count": 4,
   "metadata": {},
   "outputs": [
    {
     "data": {
      "text/plain": [
       "pandas.core.groupby.generic.DataFrameGroupBy"
      ]
     },
     "execution_count": 4,
     "metadata": {},
     "output_type": "execute_result"
    }
   ],
   "source": [
    "type(grouped_single)"
   ]
  },
  {
   "cell_type": "code",
   "execution_count": 8,
   "metadata": {},
   "outputs": [
    {
     "data": {
      "text/html": [
       "<div>\n",
       "<style scoped>\n",
       "    .dataframe tbody tr th:only-of-type {\n",
       "        vertical-align: middle;\n",
       "    }\n",
       "\n",
       "    .dataframe tbody tr th {\n",
       "        vertical-align: top;\n",
       "    }\n",
       "\n",
       "    .dataframe thead th {\n",
       "        text-align: right;\n",
       "    }\n",
       "</style>\n",
       "<table border=\"1\" class=\"dataframe\">\n",
       "  <thead>\n",
       "    <tr style=\"text-align: right;\">\n",
       "      <th></th>\n",
       "      <th>School</th>\n",
       "      <th>Class</th>\n",
       "      <th>Gender</th>\n",
       "      <th>Address</th>\n",
       "      <th>Height</th>\n",
       "      <th>Weight</th>\n",
       "      <th>Math</th>\n",
       "      <th>Physics</th>\n",
       "    </tr>\n",
       "    <tr>\n",
       "      <th>ID</th>\n",
       "      <th></th>\n",
       "      <th></th>\n",
       "      <th></th>\n",
       "      <th></th>\n",
       "      <th></th>\n",
       "      <th></th>\n",
       "      <th></th>\n",
       "      <th></th>\n",
       "    </tr>\n",
       "  </thead>\n",
       "  <tbody>\n",
       "    <tr>\n",
       "      <th>1301</th>\n",
       "      <td>S_1</td>\n",
       "      <td>C_3</td>\n",
       "      <td>M</td>\n",
       "      <td>street_4</td>\n",
       "      <td>161</td>\n",
       "      <td>68</td>\n",
       "      <td>31.5</td>\n",
       "      <td>B+</td>\n",
       "    </tr>\n",
       "    <tr>\n",
       "      <th>1302</th>\n",
       "      <td>S_1</td>\n",
       "      <td>C_3</td>\n",
       "      <td>F</td>\n",
       "      <td>street_1</td>\n",
       "      <td>175</td>\n",
       "      <td>57</td>\n",
       "      <td>87.7</td>\n",
       "      <td>A-</td>\n",
       "    </tr>\n",
       "    <tr>\n",
       "      <th>1303</th>\n",
       "      <td>S_1</td>\n",
       "      <td>C_3</td>\n",
       "      <td>M</td>\n",
       "      <td>street_7</td>\n",
       "      <td>188</td>\n",
       "      <td>82</td>\n",
       "      <td>49.7</td>\n",
       "      <td>B</td>\n",
       "    </tr>\n",
       "    <tr>\n",
       "      <th>1304</th>\n",
       "      <td>S_1</td>\n",
       "      <td>C_3</td>\n",
       "      <td>M</td>\n",
       "      <td>street_2</td>\n",
       "      <td>195</td>\n",
       "      <td>70</td>\n",
       "      <td>85.2</td>\n",
       "      <td>A</td>\n",
       "    </tr>\n",
       "    <tr>\n",
       "      <th>1305</th>\n",
       "      <td>S_1</td>\n",
       "      <td>C_3</td>\n",
       "      <td>F</td>\n",
       "      <td>street_5</td>\n",
       "      <td>187</td>\n",
       "      <td>69</td>\n",
       "      <td>61.7</td>\n",
       "      <td>B-</td>\n",
       "    </tr>\n",
       "  </tbody>\n",
       "</table>\n",
       "</div>"
      ],
      "text/plain": [
       "     School Class Gender   Address  Height  Weight  Math Physics\n",
       "ID                                                              \n",
       "1301    S_1   C_3      M  street_4     161      68  31.5      B+\n",
       "1302    S_1   C_3      F  street_1     175      57  87.7      A-\n",
       "1303    S_1   C_3      M  street_7     188      82  49.7       B\n",
       "1304    S_1   C_3      M  street_2     195      70  85.2       A\n",
       "1305    S_1   C_3      F  street_5     187      69  61.7      B-"
      ]
     },
     "execution_count": 8,
     "metadata": {},
     "output_type": "execute_result"
    }
   ],
   "source": [
    "grouped_single.get_group('S_1').tail()"
   ]
  },
  {
   "cell_type": "code",
   "execution_count": 9,
   "metadata": {},
   "outputs": [
    {
     "data": {
      "text/html": [
       "<div>\n",
       "<style scoped>\n",
       "    .dataframe tbody tr th:only-of-type {\n",
       "        vertical-align: middle;\n",
       "    }\n",
       "\n",
       "    .dataframe tbody tr th {\n",
       "        vertical-align: top;\n",
       "    }\n",
       "\n",
       "    .dataframe thead th {\n",
       "        text-align: right;\n",
       "    }\n",
       "</style>\n",
       "<table border=\"1\" class=\"dataframe\">\n",
       "  <thead>\n",
       "    <tr style=\"text-align: right;\">\n",
       "      <th></th>\n",
       "      <th>School</th>\n",
       "      <th>Class</th>\n",
       "      <th>Gender</th>\n",
       "      <th>Address</th>\n",
       "      <th>Height</th>\n",
       "      <th>Weight</th>\n",
       "      <th>Math</th>\n",
       "      <th>Physics</th>\n",
       "    </tr>\n",
       "    <tr>\n",
       "      <th>ID</th>\n",
       "      <th></th>\n",
       "      <th></th>\n",
       "      <th></th>\n",
       "      <th></th>\n",
       "      <th></th>\n",
       "      <th></th>\n",
       "      <th></th>\n",
       "      <th></th>\n",
       "    </tr>\n",
       "  </thead>\n",
       "  <tbody>\n",
       "    <tr>\n",
       "      <th>2401</th>\n",
       "      <td>S_2</td>\n",
       "      <td>C_4</td>\n",
       "      <td>F</td>\n",
       "      <td>street_2</td>\n",
       "      <td>192</td>\n",
       "      <td>62</td>\n",
       "      <td>45.3</td>\n",
       "      <td>A</td>\n",
       "    </tr>\n",
       "    <tr>\n",
       "      <th>2402</th>\n",
       "      <td>S_2</td>\n",
       "      <td>C_4</td>\n",
       "      <td>M</td>\n",
       "      <td>street_7</td>\n",
       "      <td>166</td>\n",
       "      <td>82</td>\n",
       "      <td>48.7</td>\n",
       "      <td>B</td>\n",
       "    </tr>\n",
       "    <tr>\n",
       "      <th>2403</th>\n",
       "      <td>S_2</td>\n",
       "      <td>C_4</td>\n",
       "      <td>F</td>\n",
       "      <td>street_6</td>\n",
       "      <td>158</td>\n",
       "      <td>60</td>\n",
       "      <td>59.7</td>\n",
       "      <td>B+</td>\n",
       "    </tr>\n",
       "    <tr>\n",
       "      <th>2404</th>\n",
       "      <td>S_2</td>\n",
       "      <td>C_4</td>\n",
       "      <td>F</td>\n",
       "      <td>street_2</td>\n",
       "      <td>160</td>\n",
       "      <td>84</td>\n",
       "      <td>67.7</td>\n",
       "      <td>B</td>\n",
       "    </tr>\n",
       "    <tr>\n",
       "      <th>2405</th>\n",
       "      <td>S_2</td>\n",
       "      <td>C_4</td>\n",
       "      <td>F</td>\n",
       "      <td>street_6</td>\n",
       "      <td>193</td>\n",
       "      <td>54</td>\n",
       "      <td>47.6</td>\n",
       "      <td>B</td>\n",
       "    </tr>\n",
       "  </tbody>\n",
       "</table>\n",
       "</div>"
      ],
      "text/plain": [
       "     School Class Gender   Address  Height  Weight  Math Physics\n",
       "ID                                                              \n",
       "2401    S_2   C_4      F  street_2     192      62  45.3       A\n",
       "2402    S_2   C_4      M  street_7     166      82  48.7       B\n",
       "2403    S_2   C_4      F  street_6     158      60  59.7      B+\n",
       "2404    S_2   C_4      F  street_2     160      84  67.7       B\n",
       "2405    S_2   C_4      F  street_6     193      54  47.6       B"
      ]
     },
     "execution_count": 9,
     "metadata": {},
     "output_type": "execute_result"
    }
   ],
   "source": [
    "grouped_mul = df.groupby(['School','Class'])\n",
    "grouped_mul.get_group(('S_2','C_4'))"
   ]
  },
  {
   "cell_type": "code",
   "execution_count": 10,
   "metadata": {},
   "outputs": [
    {
     "data": {
      "text/plain": [
       "School\n",
       "S_1    15\n",
       "S_2    20\n",
       "dtype: int64"
      ]
     },
     "execution_count": 10,
     "metadata": {},
     "output_type": "execute_result"
    }
   ],
   "source": [
    "grouped_single.size()"
   ]
  },
  {
   "cell_type": "code",
   "execution_count": 11,
   "metadata": {},
   "outputs": [
    {
     "data": {
      "text/plain": [
       "School  Class\n",
       "S_1     C_1      5\n",
       "        C_2      5\n",
       "        C_3      5\n",
       "S_2     C_1      5\n",
       "        C_2      5\n",
       "        C_3      5\n",
       "        C_4      5\n",
       "dtype: int64"
      ]
     },
     "execution_count": 11,
     "metadata": {},
     "output_type": "execute_result"
    }
   ],
   "source": [
    "grouped_mul.size()"
   ]
  },
  {
   "cell_type": "code",
   "execution_count": 12,
   "metadata": {},
   "outputs": [
    {
     "data": {
      "text/plain": [
       "2"
      ]
     },
     "execution_count": 12,
     "metadata": {},
     "output_type": "execute_result"
    }
   ],
   "source": [
    "grouped_single.ngroups"
   ]
  },
  {
   "cell_type": "code",
   "execution_count": 13,
   "metadata": {},
   "outputs": [
    {
     "data": {
      "text/plain": [
       "7"
      ]
     },
     "execution_count": 13,
     "metadata": {},
     "output_type": "execute_result"
    }
   ],
   "source": [
    "grouped_mul.ngroups"
   ]
  },
  {
   "cell_type": "code",
   "execution_count": 17,
   "metadata": {},
   "outputs": [
    {
     "name": "stdout",
     "output_type": "stream",
     "text": [
      "S_1\n"
     ]
    },
    {
     "data": {
      "text/html": [
       "<div>\n",
       "<style scoped>\n",
       "    .dataframe tbody tr th:only-of-type {\n",
       "        vertical-align: middle;\n",
       "    }\n",
       "\n",
       "    .dataframe tbody tr th {\n",
       "        vertical-align: top;\n",
       "    }\n",
       "\n",
       "    .dataframe thead th {\n",
       "        text-align: right;\n",
       "    }\n",
       "</style>\n",
       "<table border=\"1\" class=\"dataframe\">\n",
       "  <thead>\n",
       "    <tr style=\"text-align: right;\">\n",
       "      <th></th>\n",
       "      <th>School</th>\n",
       "      <th>Class</th>\n",
       "      <th>Gender</th>\n",
       "      <th>Address</th>\n",
       "      <th>Height</th>\n",
       "      <th>Weight</th>\n",
       "      <th>Math</th>\n",
       "      <th>Physics</th>\n",
       "    </tr>\n",
       "    <tr>\n",
       "      <th>ID</th>\n",
       "      <th></th>\n",
       "      <th></th>\n",
       "      <th></th>\n",
       "      <th></th>\n",
       "      <th></th>\n",
       "      <th></th>\n",
       "      <th></th>\n",
       "      <th></th>\n",
       "    </tr>\n",
       "  </thead>\n",
       "  <tbody>\n",
       "    <tr>\n",
       "      <th>1101</th>\n",
       "      <td>S_1</td>\n",
       "      <td>C_1</td>\n",
       "      <td>M</td>\n",
       "      <td>street_1</td>\n",
       "      <td>173</td>\n",
       "      <td>63</td>\n",
       "      <td>34.0</td>\n",
       "      <td>A+</td>\n",
       "    </tr>\n",
       "    <tr>\n",
       "      <th>1102</th>\n",
       "      <td>S_1</td>\n",
       "      <td>C_1</td>\n",
       "      <td>F</td>\n",
       "      <td>street_2</td>\n",
       "      <td>192</td>\n",
       "      <td>73</td>\n",
       "      <td>32.5</td>\n",
       "      <td>B+</td>\n",
       "    </tr>\n",
       "    <tr>\n",
       "      <th>1103</th>\n",
       "      <td>S_1</td>\n",
       "      <td>C_1</td>\n",
       "      <td>M</td>\n",
       "      <td>street_2</td>\n",
       "      <td>186</td>\n",
       "      <td>82</td>\n",
       "      <td>87.2</td>\n",
       "      <td>B+</td>\n",
       "    </tr>\n",
       "    <tr>\n",
       "      <th>1104</th>\n",
       "      <td>S_1</td>\n",
       "      <td>C_1</td>\n",
       "      <td>F</td>\n",
       "      <td>street_2</td>\n",
       "      <td>167</td>\n",
       "      <td>81</td>\n",
       "      <td>80.4</td>\n",
       "      <td>B-</td>\n",
       "    </tr>\n",
       "    <tr>\n",
       "      <th>1105</th>\n",
       "      <td>S_1</td>\n",
       "      <td>C_1</td>\n",
       "      <td>F</td>\n",
       "      <td>street_4</td>\n",
       "      <td>159</td>\n",
       "      <td>64</td>\n",
       "      <td>84.8</td>\n",
       "      <td>B+</td>\n",
       "    </tr>\n",
       "  </tbody>\n",
       "</table>\n",
       "</div>"
      ],
      "text/plain": [
       "     School Class Gender   Address  Height  Weight  Math Physics\n",
       "ID                                                              \n",
       "1101    S_1   C_1      M  street_1     173      63  34.0      A+\n",
       "1102    S_1   C_1      F  street_2     192      73  32.5      B+\n",
       "1103    S_1   C_1      M  street_2     186      82  87.2      B+\n",
       "1104    S_1   C_1      F  street_2     167      81  80.4      B-\n",
       "1105    S_1   C_1      F  street_4     159      64  84.8      B+"
      ]
     },
     "metadata": {},
     "output_type": "display_data"
    },
    {
     "name": "stdout",
     "output_type": "stream",
     "text": [
      "S_2\n"
     ]
    },
    {
     "data": {
      "text/html": [
       "<div>\n",
       "<style scoped>\n",
       "    .dataframe tbody tr th:only-of-type {\n",
       "        vertical-align: middle;\n",
       "    }\n",
       "\n",
       "    .dataframe tbody tr th {\n",
       "        vertical-align: top;\n",
       "    }\n",
       "\n",
       "    .dataframe thead th {\n",
       "        text-align: right;\n",
       "    }\n",
       "</style>\n",
       "<table border=\"1\" class=\"dataframe\">\n",
       "  <thead>\n",
       "    <tr style=\"text-align: right;\">\n",
       "      <th></th>\n",
       "      <th>School</th>\n",
       "      <th>Class</th>\n",
       "      <th>Gender</th>\n",
       "      <th>Address</th>\n",
       "      <th>Height</th>\n",
       "      <th>Weight</th>\n",
       "      <th>Math</th>\n",
       "      <th>Physics</th>\n",
       "    </tr>\n",
       "    <tr>\n",
       "      <th>ID</th>\n",
       "      <th></th>\n",
       "      <th></th>\n",
       "      <th></th>\n",
       "      <th></th>\n",
       "      <th></th>\n",
       "      <th></th>\n",
       "      <th></th>\n",
       "      <th></th>\n",
       "    </tr>\n",
       "  </thead>\n",
       "  <tbody>\n",
       "    <tr>\n",
       "      <th>2101</th>\n",
       "      <td>S_2</td>\n",
       "      <td>C_1</td>\n",
       "      <td>M</td>\n",
       "      <td>street_7</td>\n",
       "      <td>174</td>\n",
       "      <td>84</td>\n",
       "      <td>83.3</td>\n",
       "      <td>C</td>\n",
       "    </tr>\n",
       "    <tr>\n",
       "      <th>2102</th>\n",
       "      <td>S_2</td>\n",
       "      <td>C_1</td>\n",
       "      <td>F</td>\n",
       "      <td>street_6</td>\n",
       "      <td>161</td>\n",
       "      <td>61</td>\n",
       "      <td>50.6</td>\n",
       "      <td>B+</td>\n",
       "    </tr>\n",
       "    <tr>\n",
       "      <th>2103</th>\n",
       "      <td>S_2</td>\n",
       "      <td>C_1</td>\n",
       "      <td>M</td>\n",
       "      <td>street_4</td>\n",
       "      <td>157</td>\n",
       "      <td>61</td>\n",
       "      <td>52.5</td>\n",
       "      <td>B-</td>\n",
       "    </tr>\n",
       "    <tr>\n",
       "      <th>2104</th>\n",
       "      <td>S_2</td>\n",
       "      <td>C_1</td>\n",
       "      <td>F</td>\n",
       "      <td>street_5</td>\n",
       "      <td>159</td>\n",
       "      <td>97</td>\n",
       "      <td>72.2</td>\n",
       "      <td>B+</td>\n",
       "    </tr>\n",
       "    <tr>\n",
       "      <th>2105</th>\n",
       "      <td>S_2</td>\n",
       "      <td>C_1</td>\n",
       "      <td>M</td>\n",
       "      <td>street_4</td>\n",
       "      <td>170</td>\n",
       "      <td>81</td>\n",
       "      <td>34.2</td>\n",
       "      <td>A</td>\n",
       "    </tr>\n",
       "  </tbody>\n",
       "</table>\n",
       "</div>"
      ],
      "text/plain": [
       "     School Class Gender   Address  Height  Weight  Math Physics\n",
       "ID                                                              \n",
       "2101    S_2   C_1      M  street_7     174      84  83.3       C\n",
       "2102    S_2   C_1      F  street_6     161      61  50.6      B+\n",
       "2103    S_2   C_1      M  street_4     157      61  52.5      B-\n",
       "2104    S_2   C_1      F  street_5     159      97  72.2      B+\n",
       "2105    S_2   C_1      M  street_4     170      81  34.2       A"
      ]
     },
     "metadata": {},
     "output_type": "display_data"
    }
   ],
   "source": [
    "for name,group in grouped_single:\n",
    "    print(name)\n",
    "    display(group.head())"
   ]
  },
  {
   "cell_type": "code",
   "execution_count": 24,
   "metadata": {},
   "outputs": [
    {
     "data": {
      "text/html": [
       "<div>\n",
       "<style scoped>\n",
       "    .dataframe tbody tr th:only-of-type {\n",
       "        vertical-align: middle;\n",
       "    }\n",
       "\n",
       "    .dataframe tbody tr th {\n",
       "        vertical-align: top;\n",
       "    }\n",
       "\n",
       "    .dataframe thead th {\n",
       "        text-align: right;\n",
       "    }\n",
       "</style>\n",
       "<table border=\"1\" class=\"dataframe\">\n",
       "  <thead>\n",
       "    <tr style=\"text-align: right;\">\n",
       "      <th></th>\n",
       "      <th></th>\n",
       "      <th>Class</th>\n",
       "      <th>Address</th>\n",
       "      <th>Height</th>\n",
       "      <th>Weight</th>\n",
       "      <th>Math</th>\n",
       "      <th>Physics</th>\n",
       "    </tr>\n",
       "    <tr>\n",
       "      <th>Gender</th>\n",
       "      <th>School</th>\n",
       "      <th></th>\n",
       "      <th></th>\n",
       "      <th></th>\n",
       "      <th></th>\n",
       "      <th></th>\n",
       "      <th></th>\n",
       "    </tr>\n",
       "  </thead>\n",
       "  <tbody>\n",
       "    <tr>\n",
       "      <th>M</th>\n",
       "      <th>S_1</th>\n",
       "      <td>C_1</td>\n",
       "      <td>street_1</td>\n",
       "      <td>173</td>\n",
       "      <td>63</td>\n",
       "      <td>34.0</td>\n",
       "      <td>A+</td>\n",
       "    </tr>\n",
       "    <tr>\n",
       "      <th>F</th>\n",
       "      <th>S_1</th>\n",
       "      <td>C_1</td>\n",
       "      <td>street_2</td>\n",
       "      <td>192</td>\n",
       "      <td>73</td>\n",
       "      <td>32.5</td>\n",
       "      <td>B+</td>\n",
       "    </tr>\n",
       "    <tr>\n",
       "      <th>M</th>\n",
       "      <th>S_1</th>\n",
       "      <td>C_1</td>\n",
       "      <td>street_2</td>\n",
       "      <td>186</td>\n",
       "      <td>82</td>\n",
       "      <td>87.2</td>\n",
       "      <td>B+</td>\n",
       "    </tr>\n",
       "    <tr>\n",
       "      <th rowspan=\"2\" valign=\"top\">F</th>\n",
       "      <th>S_1</th>\n",
       "      <td>C_1</td>\n",
       "      <td>street_2</td>\n",
       "      <td>167</td>\n",
       "      <td>81</td>\n",
       "      <td>80.4</td>\n",
       "      <td>B-</td>\n",
       "    </tr>\n",
       "    <tr>\n",
       "      <th>S_1</th>\n",
       "      <td>C_1</td>\n",
       "      <td>street_4</td>\n",
       "      <td>159</td>\n",
       "      <td>64</td>\n",
       "      <td>84.8</td>\n",
       "      <td>B+</td>\n",
       "    </tr>\n",
       "  </tbody>\n",
       "</table>\n",
       "</div>"
      ],
      "text/plain": [
       "              Class   Address  Height  Weight  Math Physics\n",
       "Gender School                                              \n",
       "M      S_1      C_1  street_1     173      63  34.0      A+\n",
       "F      S_1      C_1  street_2     192      73  32.5      B+\n",
       "M      S_1      C_1  street_2     186      82  87.2      B+\n",
       "F      S_1      C_1  street_2     167      81  80.4      B-\n",
       "       S_1      C_1  street_4     159      64  84.8      B+"
      ]
     },
     "execution_count": 24,
     "metadata": {},
     "output_type": "execute_result"
    }
   ],
   "source": [
    "df.set_index(['Gender','School']).groupby('School').get_group('S_1').head()"
   ]
  },
  {
   "cell_type": "code",
   "execution_count": 25,
   "metadata": {},
   "outputs": [
    {
     "name": "stdout",
     "output_type": "stream",
     "text": [
      "['Address', 'Class', 'Gender', 'Height', 'Math', 'Physics', 'School', 'Weight', 'agg', 'aggregate', 'all', 'any', 'apply', 'backfill', 'bfill', 'boxplot', 'corr', 'corrwith', 'count', 'cov', 'cumcount', 'cummax', 'cummin', 'cumprod', 'cumsum', 'describe', 'diff', 'dtypes', 'expanding', 'ffill', 'fillna', 'filter', 'first', 'get_group', 'groups', 'head', 'hist', 'idxmax', 'idxmin', 'indices', 'last', 'mad', 'max', 'mean', 'median', 'min', 'ndim', 'ngroup', 'ngroups', 'nth', 'nunique', 'ohlc', 'pad', 'pct_change', 'pipe', 'plot', 'prod', 'quantile', 'rank', 'resample', 'rolling', 'sem', 'shift', 'size', 'skew', 'std', 'sum', 'tail', 'take', 'transform', 'tshift', 'var']\n"
     ]
    }
   ],
   "source": [
    "print([attr for attr in dir(grouped_single) if not attr.startswith('_')])"
   ]
  },
  {
   "cell_type": "code",
   "execution_count": 31,
   "metadata": {
    "scrolled": true
   },
   "outputs": [
    {
     "data": {
      "text/html": [
       "<div>\n",
       "<style scoped>\n",
       "    .dataframe tbody tr th:only-of-type {\n",
       "        vertical-align: middle;\n",
       "    }\n",
       "\n",
       "    .dataframe tbody tr th {\n",
       "        vertical-align: top;\n",
       "    }\n",
       "\n",
       "    .dataframe thead th {\n",
       "        text-align: right;\n",
       "    }\n",
       "</style>\n",
       "<table border=\"1\" class=\"dataframe\">\n",
       "  <thead>\n",
       "    <tr style=\"text-align: right;\">\n",
       "      <th></th>\n",
       "      <th>Class</th>\n",
       "      <th>Gender</th>\n",
       "      <th>Address</th>\n",
       "      <th>Height</th>\n",
       "      <th>Weight</th>\n",
       "      <th>Math</th>\n",
       "      <th>Physics</th>\n",
       "    </tr>\n",
       "    <tr>\n",
       "      <th>School</th>\n",
       "      <th></th>\n",
       "      <th></th>\n",
       "      <th></th>\n",
       "      <th></th>\n",
       "      <th></th>\n",
       "      <th></th>\n",
       "      <th></th>\n",
       "    </tr>\n",
       "  </thead>\n",
       "  <tbody>\n",
       "    <tr>\n",
       "      <th>S_1</th>\n",
       "      <td>C_1</td>\n",
       "      <td>M</td>\n",
       "      <td>street_1</td>\n",
       "      <td>173</td>\n",
       "      <td>63</td>\n",
       "      <td>34.0</td>\n",
       "      <td>A+</td>\n",
       "    </tr>\n",
       "    <tr>\n",
       "      <th>S_2</th>\n",
       "      <td>C_1</td>\n",
       "      <td>M</td>\n",
       "      <td>street_7</td>\n",
       "      <td>174</td>\n",
       "      <td>84</td>\n",
       "      <td>83.3</td>\n",
       "      <td>C</td>\n",
       "    </tr>\n",
       "  </tbody>\n",
       "</table>\n",
       "</div>"
      ],
      "text/plain": [
       "       Class Gender   Address  Height  Weight  Math Physics\n",
       "School                                                     \n",
       "S_1      C_1      M  street_1     173      63  34.0      A+\n",
       "S_2      C_1      M  street_7     174      84  83.3       C"
      ]
     },
     "execution_count": 31,
     "metadata": {},
     "output_type": "execute_result"
    }
   ],
   "source": [
    "grouped_single.first()"
   ]
  },
  {
   "cell_type": "code",
   "execution_count": 34,
   "metadata": {},
   "outputs": [
    {
     "data": {
      "text/plain": [
       "(35, 8)"
      ]
     },
     "execution_count": 34,
     "metadata": {},
     "output_type": "execute_result"
    }
   ],
   "source": [
    "df.shape"
   ]
  },
  {
   "cell_type": "code",
   "execution_count": 35,
   "metadata": {},
   "outputs": [
    {
     "data": {
      "text/plain": [
       "array(['a', 'b', 'b', 'a', 'b', 'c', 'b', 'b', 'b', 'c', 'b', 'c', 'c',\n",
       "       'b', 'b', 'c', 'b', 'c', 'c', 'c', 'b', 'a', 'a', 'a', 'c', 'a',\n",
       "       'a', 'c', 'b', 'c', 'a', 'b', 'b', 'b', 'c'], dtype='<U1')"
      ]
     },
     "execution_count": 35,
     "metadata": {},
     "output_type": "execute_result"
    }
   ],
   "source": [
    "np.random.choice(['a','b','c'],df.shape[0])"
   ]
  },
  {
   "cell_type": "code",
   "execution_count": 41,
   "metadata": {},
   "outputs": [
    {
     "name": "stdout",
     "output_type": "stream",
     "text": [
      "1101\n",
      "1102\n",
      "1103\n",
      "1104\n",
      "1105\n"
     ]
    },
    {
     "data": {
      "text/html": [
       "<div>\n",
       "<style scoped>\n",
       "    .dataframe tbody tr th:only-of-type {\n",
       "        vertical-align: middle;\n",
       "    }\n",
       "\n",
       "    .dataframe tbody tr th {\n",
       "        vertical-align: top;\n",
       "    }\n",
       "\n",
       "    .dataframe thead th {\n",
       "        text-align: right;\n",
       "    }\n",
       "</style>\n",
       "<table border=\"1\" class=\"dataframe\">\n",
       "  <thead>\n",
       "    <tr style=\"text-align: right;\">\n",
       "      <th></th>\n",
       "      <th>School</th>\n",
       "      <th>Class</th>\n",
       "      <th>Gender</th>\n",
       "      <th>Address</th>\n",
       "      <th>Height</th>\n",
       "      <th>Weight</th>\n",
       "      <th>Math</th>\n",
       "      <th>Physics</th>\n",
       "    </tr>\n",
       "    <tr>\n",
       "      <th>ID</th>\n",
       "      <th></th>\n",
       "      <th></th>\n",
       "      <th></th>\n",
       "      <th></th>\n",
       "      <th></th>\n",
       "      <th></th>\n",
       "      <th></th>\n",
       "      <th></th>\n",
       "    </tr>\n",
       "  </thead>\n",
       "  <tbody>\n",
       "  </tbody>\n",
       "</table>\n",
       "</div>"
      ],
      "text/plain": [
       "Empty DataFrame\n",
       "Columns: [School, Class, Gender, Address, Height, Weight, Math, Physics]\n",
       "Index: []"
      ]
     },
     "execution_count": 41,
     "metadata": {},
     "output_type": "execute_result"
    }
   ],
   "source": [
    "df[:5].groupby(lambda x:print(x)).head(0)"
   ]
  },
  {
   "cell_type": "code",
   "execution_count": 42,
   "metadata": {},
   "outputs": [
    {
     "data": {
      "text/plain": [
       "{'偶数行': Int64Index([1102, 1104, 1201, 1203, 1205, 1302, 1304, 2101, 2103, 2105, 2202,\n",
       "             2204, 2301, 2303, 2305, 2402, 2404],\n",
       "            dtype='int64', name='ID'),\n",
       " '奇数行': Int64Index([1101, 1103, 1105, 1202, 1204, 1301, 1303, 1305, 2102, 2104, 2201,\n",
       "             2203, 2205, 2302, 2304, 2401, 2403, 2405],\n",
       "            dtype='int64', name='ID')}"
      ]
     },
     "execution_count": 42,
     "metadata": {},
     "output_type": "execute_result"
    }
   ],
   "source": [
    "df.groupby(lambda x:'奇数行' if not df.index.get_loc(x)%2==1 else '偶数行').groups"
   ]
  },
  {
   "cell_type": "code",
   "execution_count": 3,
   "metadata": {},
   "outputs": [],
   "source": [
    "sb = pd.read_excel('SuperBio529.xlsx',sheet_name='1')"
   ]
  },
  {
   "cell_type": "code",
   "execution_count": 4,
   "metadata": {},
   "outputs": [],
   "source": [
    "sb = sb.replace('plasma','Plasma')"
   ]
  },
  {
   "cell_type": "code",
   "execution_count": 5,
   "metadata": {},
   "outputs": [
    {
     "data": {
      "text/plain": [
       "<bound method DataFrame.info of      Sample ID                                       Institution  Sample Type  \\\n",
       "0            1  Clinical Laboratory of Jingdezhen NO.1 People'...       Serum   \n",
       "1            2  Clinical Laboratory of Jingdezhen NO.1 People'...       Serum   \n",
       "2            3  Clinical Laboratory of Jingdezhen NO.1 People'...       Serum   \n",
       "3            4  Clinical Laboratory of Jingdezhen NO.1 People'...       Serum   \n",
       "4            5                       Superbio Clinical Laboratory       Serum   \n",
       "..         ...                                                ...         ...   \n",
       "524        525                       Superbio Clinical Laboratory       Serum   \n",
       "525        526                       Superbio Clinical Laboratory       Serum   \n",
       "526        527                       Superbio Clinical Laboratory       Serum   \n",
       "527        528                       Superbio Clinical Laboratory       Serum   \n",
       "528        529                       Superbio Clinical Laboratory       Serum   \n",
       "\n",
       "    IgM (+/-) IgG  (+/-) M+G  (+/-) Control PCR  \\\n",
       "0           +          +          +       +   +   \n",
       "1           +          +          +       +   +   \n",
       "2           +          +          +       +   +   \n",
       "3           +          +          +       +   +   \n",
       "4           +          +          +       +   +   \n",
       "..        ...        ...        ...     ...  ..   \n",
       "524         +          +          +       +   +   \n",
       "525         +          +          +       +   +   \n",
       "526         +          +          +       +   +   \n",
       "527         +          +          +       +   +   \n",
       "528         +          +          +       +   +   \n",
       "\n",
       "     Days from Symptom Onset to Blood Collection  \n",
       "0                                           15.0  \n",
       "1                                           16.0  \n",
       "2                                           18.0  \n",
       "3                                           19.0  \n",
       "4                                           20.0  \n",
       "..                                           ...  \n",
       "524                                          6.0  \n",
       "525                                          7.0  \n",
       "526                                          6.0  \n",
       "527                                          7.0  \n",
       "528                                          6.0  \n",
       "\n",
       "[529 rows x 9 columns]>"
      ]
     },
     "execution_count": 5,
     "metadata": {},
     "output_type": "execute_result"
    }
   ],
   "source": [
    "sb.info"
   ]
  },
  {
   "cell_type": "code",
   "execution_count": 6,
   "metadata": {},
   "outputs": [],
   "source": [
    "sb_single = sb.groupby('Sample Type')"
   ]
  },
  {
   "cell_type": "code",
   "execution_count": 9,
   "metadata": {},
   "outputs": [
    {
     "name": "stdout",
     "output_type": "stream",
     "text": [
      "Plasma\n",
      "     Sample ID                  Institution  Sample Type IgM (+/-) IgG  (+/-)  \\\n",
      "23          24  Superbio Clinical Laboratory      Plasma         -          -   \n",
      "24          25  Superbio Clinical Laboratory      Plasma         -          -   \n",
      "25          26  Superbio Clinical Laboratory      Plasma         -          -   \n",
      "26          27  Superbio Clinical Laboratory      Plasma         -          -   \n",
      "27          28  Superbio Clinical Laboratory      Plasma         -          -   \n",
      "..         ...                           ...         ...       ...        ...   \n",
      "403        404  Superbio Clinical Laboratory      Plasma         -          -   \n",
      "404        405  Superbio Clinical Laboratory      Plasma         -          -   \n",
      "405        406  Superbio Clinical Laboratory      Plasma         -          -   \n",
      "406        407  Superbio Clinical Laboratory      Plasma         -          -   \n",
      "407        408  Superbio Clinical Laboratory      Plasma         -          -   \n",
      "\n",
      "    M+G  (+/-) Control PCR  Days from Symptom Onset to Blood Collection  \n",
      "23           -       +   -                                          NaN  \n",
      "24           -       +   -                                          NaN  \n",
      "25           -       +   -                                          NaN  \n",
      "26           -       +   -                                          NaN  \n",
      "27           -       +   -                                          NaN  \n",
      "..         ...     ...  ..                                          ...  \n",
      "403          -       +   -                                          NaN  \n",
      "404          -       +   -                                          NaN  \n",
      "405          -       +   -                                          NaN  \n",
      "406          -       +   -                                          NaN  \n",
      "407          -       +   -                                          NaN  \n",
      "\n",
      "[307 rows x 9 columns]\n",
      "Serum\n",
      "     Sample ID                                       Institution  Sample Type  \\\n",
      "0            1  Clinical Laboratory of Jingdezhen NO.1 People'...       Serum   \n",
      "1            2  Clinical Laboratory of Jingdezhen NO.1 People'...       Serum   \n",
      "2            3  Clinical Laboratory of Jingdezhen NO.1 People'...       Serum   \n",
      "3            4  Clinical Laboratory of Jingdezhen NO.1 People'...       Serum   \n",
      "4            5                       Superbio Clinical Laboratory       Serum   \n",
      "..         ...                                                ...         ...   \n",
      "524        525                       Superbio Clinical Laboratory       Serum   \n",
      "525        526                       Superbio Clinical Laboratory       Serum   \n",
      "526        527                       Superbio Clinical Laboratory       Serum   \n",
      "527        528                       Superbio Clinical Laboratory       Serum   \n",
      "528        529                       Superbio Clinical Laboratory       Serum   \n",
      "\n",
      "    IgM (+/-) IgG  (+/-) M+G  (+/-) Control PCR  \\\n",
      "0           +          +          +       +   +   \n",
      "1           +          +          +       +   +   \n",
      "2           +          +          +       +   +   \n",
      "3           +          +          +       +   +   \n",
      "4           +          +          +       +   +   \n",
      "..        ...        ...        ...     ...  ..   \n",
      "524         +          +          +       +   +   \n",
      "525         +          +          +       +   +   \n",
      "526         +          +          +       +   +   \n",
      "527         +          +          +       +   +   \n",
      "528         +          +          +       +   +   \n",
      "\n",
      "     Days from Symptom Onset to Blood Collection  \n",
      "0                                           15.0  \n",
      "1                                           16.0  \n",
      "2                                           18.0  \n",
      "3                                           19.0  \n",
      "4                                           20.0  \n",
      "..                                           ...  \n",
      "524                                          6.0  \n",
      "525                                          7.0  \n",
      "526                                          6.0  \n",
      "527                                          7.0  \n",
      "528                                          6.0  \n",
      "\n",
      "[222 rows x 9 columns]\n"
     ]
    }
   ],
   "source": [
    "for name,group in sb_single:\n",
    "    print(name)\n",
    "    print(group)\n",
    "    "
   ]
  },
  {
   "cell_type": "code",
   "execution_count": null,
   "metadata": {},
   "outputs": [],
   "source": []
  },
  {
   "cell_type": "code",
   "execution_count": null,
   "metadata": {},
   "outputs": [],
   "source": []
  },
  {
   "cell_type": "code",
   "execution_count": null,
   "metadata": {},
   "outputs": [],
   "source": []
  },
  {
   "cell_type": "code",
   "execution_count": null,
   "metadata": {},
   "outputs": [],
   "source": []
  },
  {
   "cell_type": "code",
   "execution_count": 7,
   "metadata": {},
   "outputs": [
    {
     "data": {
      "text/plain": [
       "Sample Type\n",
       "Plasma    307\n",
       "Serum     222\n",
       "dtype: int64"
      ]
     },
     "execution_count": 7,
     "metadata": {},
     "output_type": "execute_result"
    }
   ],
   "source": [
    "sb_single.size()"
   ]
  },
  {
   "cell_type": "code",
   "execution_count": 16,
   "metadata": {},
   "outputs": [
    {
     "data": {
      "text/html": [
       "<div>\n",
       "<style scoped>\n",
       "    .dataframe tbody tr th:only-of-type {\n",
       "        vertical-align: middle;\n",
       "    }\n",
       "\n",
       "    .dataframe tbody tr th {\n",
       "        vertical-align: top;\n",
       "    }\n",
       "\n",
       "    .dataframe thead th {\n",
       "        text-align: right;\n",
       "    }\n",
       "</style>\n",
       "<table border=\"1\" class=\"dataframe\">\n",
       "  <thead>\n",
       "    <tr style=\"text-align: right;\">\n",
       "      <th></th>\n",
       "      <th>Sample ID</th>\n",
       "      <th>Institution</th>\n",
       "      <th>Sample Type</th>\n",
       "      <th>IgM (+/-)</th>\n",
       "      <th>IgG  (+/-)</th>\n",
       "      <th>M+G  (+/-)</th>\n",
       "      <th>Control</th>\n",
       "      <th>PCR</th>\n",
       "      <th>Days from Symptom Onset to Blood Collection</th>\n",
       "    </tr>\n",
       "  </thead>\n",
       "  <tbody>\n",
       "  </tbody>\n",
       "</table>\n",
       "</div>"
      ],
      "text/plain": [
       "Empty DataFrame\n",
       "Columns: [Sample ID, Institution , Sample Type, IgM (+/-), IgG  (+/-), M+G  (+/-), Control, PCR, Days from Symptom Onset to Blood Collection]\n",
       "Index: []"
      ]
     },
     "execution_count": 16,
     "metadata": {},
     "output_type": "execute_result"
    }
   ],
   "source": [
    "sb[sb.duplicated('Sample ID')]"
   ]
  },
  {
   "cell_type": "code",
   "execution_count": 61,
   "metadata": {},
   "outputs": [
    {
     "data": {
      "text/plain": [
       "Sample Type\n",
       "Fingerstick blood    345\n",
       "Plasma                83\n",
       "Serum                101\n",
       "dtype: int64"
      ]
     },
     "execution_count": 61,
     "metadata": {},
     "output_type": "execute_result"
    }
   ],
   "source": [
    "sb_single = sb.groupby('Sample Type')\n",
    "sb_single.size()"
   ]
  },
  {
   "cell_type": "code",
   "execution_count": 8,
   "metadata": {},
   "outputs": [],
   "source": [
    "import numpy as np\n",
    "import pandas as pd"
   ]
  },
  {
   "cell_type": "code",
   "execution_count": 9,
   "metadata": {},
   "outputs": [
    {
     "data": {
      "text/plain": [
       "(166, 8)"
      ]
     },
     "execution_count": 9,
     "metadata": {},
     "output_type": "execute_result"
    }
   ],
   "source": [
    "sy = pd.read_excel('第三方医学检验所名录.xlsx',sheet_name='上海')\n",
    "sy2 = pd.read_excel('第三方医学检验所名录.xlsx',sheet_name='北京')\n",
    "data = pd.concat([sy,sy2])\n",
    "data.shape"
   ]
  },
  {
   "cell_type": "code",
   "execution_count": 96,
   "metadata": {},
   "outputs": [],
   "source": [
    "sy2 = pd.read_excel('第三方医学检验所名录.xlsx',sheet_name='西藏')\n",
    "data = pd.concat([data,sy2])\n"
   ]
  },
  {
   "cell_type": "code",
   "execution_count": 101,
   "metadata": {},
   "outputs": [
    {
     "data": {
      "text/plain": [
       "(1224, 8)"
      ]
     },
     "execution_count": 101,
     "metadata": {},
     "output_type": "execute_result"
    }
   ],
   "source": [
    "data.shape"
   ]
  },
  {
   "cell_type": "code",
   "execution_count": 186,
   "metadata": {},
   "outputs": [
    {
     "data": {
      "text/plain": [
       "0       上海方程医学检验所有限公司\n",
       "1     上海兰卫医学检验所股份有限公司\n",
       "2       上海中检医学检验所有限公司\n",
       "3      上海思路迪医学检验所有限公司\n",
       "4       上海伯豪医学检验所有限公司\n",
       "           ...       \n",
       "13                 暂无\n",
       "14                 暂无\n",
       "15                 暂无\n",
       "16                 暂无\n",
       "0        西藏华大医学检验有限公司\n",
       "Name: 单位名称, Length: 1224, dtype: object"
      ]
     },
     "execution_count": 186,
     "metadata": {},
     "output_type": "execute_result"
    }
   ],
   "source": [
    "data\n",
    "\n"
   ]
  },
  {
   "cell_type": "code",
   "execution_count": null,
   "metadata": {},
   "outputs": [],
   "source": []
  },
  {
   "cell_type": "code",
   "execution_count": null,
   "metadata": {},
   "outputs": [],
   "source": [
    "type(df)"
   ]
  },
  {
   "cell_type": "code",
   "execution_count": 11,
   "metadata": {},
   "outputs": [],
   "source": [
    "sy1 = pd.ExcelFile('第三方医学检验所名录.xlsx')"
   ]
  },
  {
   "cell_type": "code",
   "execution_count": null,
   "metadata": {},
   "outputs": [],
   "source": []
  },
  {
   "cell_type": "code",
   "execution_count": 21,
   "metadata": {},
   "outputs": [
    {
     "data": {
      "text/plain": [
       "['北京',\n",
       " '广东',\n",
       " '江苏',\n",
       " '上海',\n",
       " '浙江',\n",
       " '四川',\n",
       " '河南',\n",
       " '福建',\n",
       " '湖北',\n",
       " '合肥',\n",
       " '重庆',\n",
       " '陕西',\n",
       " '湖南',\n",
       " '辽宁',\n",
       " '天津',\n",
       " '云南',\n",
       " '江西',\n",
       " '广西',\n",
       " '山西',\n",
       " '贵州',\n",
       " '吉林',\n",
       " '黑龙江',\n",
       " '内蒙古',\n",
       " '新疆',\n",
       " '甘肃',\n",
       " '宁夏',\n",
       " '海南',\n",
       " '西藏']"
      ]
     },
     "execution_count": 21,
     "metadata": {},
     "output_type": "execute_result"
    }
   ],
   "source": [
    "sy1.sheet_names"
   ]
  },
  {
   "cell_type": "code",
   "execution_count": null,
   "metadata": {},
   "outputs": [],
   "source": [
    "data = pd.DataFrame()\n",
    "for  name  in sy1.sheet_names:\n",
    "    d = pd.read_excel('第三方医学检验所名录.xlsx',sheet_name= name,fillNaN = '暂无')\n",
    "    data = pd.concat([data,d])\n",
    "data.shape"
   ]
  },
  {
   "cell_type": "code",
   "execution_count": 25,
   "metadata": {},
   "outputs": [
    {
     "data": {
      "text/plain": [
       "<bound method DataFrame.info of       序号             单位名称                                               主营业务  \\\n",
       "0    1.0  \\n北京康旭医学检验所有限公司  北京康旭医学检验所（华康基因）是专业从事细胞分子遗传学专业检测的高新技术企业，能够出示临床检...   \n",
       "1    2.0    北京博奥医学检验所有限公司  北京博奥医学检验所有限公司位于北京经济技术开发区亦庄生物医药园，是国内领先的第三方独立医学检...   \n",
       "2    3.0    北京元和医学检验所有限公司  北京元和医学检验所有限公司基于高通量基因测序技术、质谱检测技术及数字化健康管理技术等为临床疾...   \n",
       "3    4.0    北京贝康医学检验所有限公司  北京贝康医学检验中心专注于遗传诊断，主要从事常见成人及儿童遗传性疾病的筛查和诊断，不孕不育的...   \n",
       "4    5.0    北京智德医学检验所有限公司  智德臻和是一家眼内液医学检测机构，集眼内液医学检验、眼内药物载体、眼科疾病诊疗平台研发与应用...   \n",
       "..   ...              ...                                                ...   \n",
       "13  14.0              NaN                                                NaN   \n",
       "14  15.0              NaN                                                NaN   \n",
       "15  16.0              NaN                                                NaN   \n",
       "16  17.0              NaN                                                NaN   \n",
       "0    1.0     西藏华大医学检验有限公司                           拉萨市柳梧新区柳梧大桥南桥头华大基因3楼301室   \n",
       "\n",
       "                                                 服务项目  \\\n",
       "0   1、大健康：HE-JK0401：儿童基因健康体检  HE-JK0402：儿童天赋基因检测  ...   \n",
       "1   1、出生缺陷及遗传病检测（诺尔康无创产前基因检测、叶酸利用能力基因检测、新生儿遗传性耳聋基因...   \n",
       "2                                                 无网站   \n",
       "3                                                 NaN   \n",
       "4   独有微量液精确检验技术和微流控病原核酸检测芯片技术，现开展临床免疫血清学、临床细胞分子遗传学...   \n",
       "..                                                ...   \n",
       "13                                                NaN   \n",
       "14                                                NaN   \n",
       "15                                                NaN   \n",
       "16                                                NaN   \n",
       "0                                                 NaN   \n",
       "\n",
       "                                                地址            电话  \\\n",
       "0   北京市海淀区杏石口路益园文化创意产业基地C区(西杉创意园四区)10号楼二层201-203\\n  010-82444060   \n",
       "1                     北京市北京经济技术开发区科创六街88号院9号楼1、2单元  010-69002900   \n",
       "2                      北京市昌平区科技园区生命园路29号1幢B316-87室  010-87870345   \n",
       "3                   北京市北京经济技术开发区科创六街88号院2号楼三单元201室      56315119   \n",
       "4                    北京市顺义区仁和镇澜西园三区37号楼二层(科技创新功能区)  010-57515235   \n",
       "..                                             ...           ...   \n",
       "13                                             NaN           NaN   \n",
       "14                                             NaN           NaN   \n",
       "15                                             NaN           NaN   \n",
       "16                                             NaN           NaN   \n",
       "0                                              NaN           NaN   \n",
       "\n",
       "                        网址                         邮箱  \n",
       "0        www.kangso.net.cn         wei.wei@kangso.net  \n",
       "1            www.biodx.com  weisun@capitalbiotech.com  \n",
       "2         www.yohecare.com       liupeng@yohecare.com  \n",
       "3   www.beijingbeikang.com           517696163@qq.com  \n",
       "4      www.zhidezhenhe.com          2383318612@qq.com  \n",
       "..                     ...                        ...  \n",
       "13                     NaN                        NaN  \n",
       "14                     NaN                        NaN  \n",
       "15                     NaN                        NaN  \n",
       "16                     NaN                        NaN  \n",
       "0                      NaN                        NaN  \n",
       "\n",
       "[1159 rows x 8 columns]>"
      ]
     },
     "execution_count": 25,
     "metadata": {},
     "output_type": "execute_result"
    }
   ],
   "source": [
    "data.info"
   ]
  },
  {
   "cell_type": "code",
   "execution_count": 213,
   "metadata": {},
   "outputs": [
    {
     "data": {
      "text/plain": [
       "19        四川华西康圣达医学检验有限公司\n",
       "3          河南康圣达医学检验所有限公司\n",
       "4           南阳康圣医学检验所有限公司\n",
       "7         安阳康圣环球医学检验所有限公司\n",
       "3          武汉康圣达医学检验所有限公司\n",
       "7     新疆康圣达医嘉利医学检验所（有限公司）\n",
       "0         海南康圣环球医学检验所有限公司\n",
       "Name: 单位名称, dtype: object"
      ]
     },
     "execution_count": 213,
     "metadata": {},
     "output_type": "execute_result"
    }
   ],
   "source": [
    "data[data.str.contains('康圣')]"
   ]
  },
  {
   "cell_type": "code",
   "execution_count": null,
   "metadata": {},
   "outputs": [],
   "source": []
  },
  {
   "cell_type": "code",
   "execution_count": null,
   "metadata": {},
   "outputs": [],
   "source": []
  },
  {
   "cell_type": "code",
   "execution_count": null,
   "metadata": {},
   "outputs": [],
   "source": []
  },
  {
   "cell_type": "code",
   "execution_count": null,
   "metadata": {},
   "outputs": [],
   "source": []
  },
  {
   "cell_type": "code",
   "execution_count": null,
   "metadata": {},
   "outputs": [],
   "source": []
  },
  {
   "cell_type": "code",
   "execution_count": null,
   "metadata": {},
   "outputs": [],
   "source": []
  },
  {
   "cell_type": "code",
   "execution_count": null,
   "metadata": {},
   "outputs": [],
   "source": []
  },
  {
   "cell_type": "code",
   "execution_count": 157,
   "metadata": {},
   "outputs": [
    {
     "data": {
      "text/plain": [
       "str"
      ]
     },
     "execution_count": 157,
     "metadata": {},
     "output_type": "execute_result"
    }
   ],
   "source": [
    "type(df)"
   ]
  },
  {
   "cell_type": "code",
   "execution_count": null,
   "metadata": {},
   "outputs": [],
   "source": []
  },
  {
   "cell_type": "code",
   "execution_count": 159,
   "metadata": {},
   "outputs": [],
   "source": [
    "d = [str(x) for x in d ]\n",
    "df =  '.'.join(d)"
   ]
  },
  {
   "cell_type": "code",
   "execution_count": null,
   "metadata": {},
   "outputs": [],
   "source": []
  },
  {
   "cell_type": "code",
   "execution_count": 99,
   "metadata": {},
   "outputs": [],
   "source": [
    "sy_name = data['单位名称'].str.split('',expand = True)"
   ]
  },
  {
   "cell_type": "code",
   "execution_count": null,
   "metadata": {},
   "outputs": [],
   "source": []
  },
  {
   "cell_type": "code",
   "execution_count": 114,
   "metadata": {},
   "outputs": [],
   "source": [
    "sy_name.apply(lambda x: list(x),axis=1)\n",
    "syl = list(sy_name.apply(lambda x: list(x),axis=1))"
   ]
  },
  {
   "cell_type": "code",
   "execution_count": 115,
   "metadata": {},
   "outputs": [],
   "source": [
    "syll = [i for item in syl for i in item]"
   ]
  },
  {
   "cell_type": "code",
   "execution_count": 3,
   "metadata": {},
   "outputs": [],
   "source": [
    "from collections import Counter\n",
    "from textrank4zh import TextRank4Keyword"
   ]
  },
  {
   "cell_type": "code",
   "execution_count": null,
   "metadata": {
    "scrolled": false
   },
   "outputs": [],
   "source": [
    "\n",
    "\n"
   ]
  },
  {
   "cell_type": "code",
   "execution_count": null,
   "metadata": {},
   "outputs": [],
   "source": [
    "Counter(syll).most_common(1)[0][0]"
   ]
  },
  {
   "cell_type": "code",
   "execution_count": 6,
   "metadata": {},
   "outputs": [
    {
     "ename": "NameError",
     "evalue": "name 'df' is not defined",
     "output_type": "error",
     "traceback": [
      "\u001b[1;31m---------------------------------------------------------------------------\u001b[0m",
      "\u001b[1;31mNameError\u001b[0m                                 Traceback (most recent call last)",
      "\u001b[1;32m<ipython-input-6-fe470a784bf6>\u001b[0m in \u001b[0;36m<module>\u001b[1;34m\u001b[0m\n\u001b[0;32m      1\u001b[0m \u001b[0mtr4w\u001b[0m \u001b[1;33m=\u001b[0m \u001b[0mTextRank4Keyword\u001b[0m\u001b[1;33m(\u001b[0m\u001b[1;33m)\u001b[0m\u001b[1;33m\u001b[0m\u001b[1;33m\u001b[0m\u001b[0m\n\u001b[1;32m----> 2\u001b[1;33m \u001b[0mtr4w\u001b[0m\u001b[1;33m.\u001b[0m\u001b[0manalyze\u001b[0m\u001b[1;33m(\u001b[0m\u001b[0mtext\u001b[0m\u001b[1;33m=\u001b[0m\u001b[0mdf\u001b[0m\u001b[1;33m,\u001b[0m \u001b[0mwindow\u001b[0m\u001b[1;33m=\u001b[0m\u001b[1;36m5\u001b[0m\u001b[1;33m,\u001b[0m \u001b[0mlower\u001b[0m\u001b[1;33m=\u001b[0m\u001b[1;32mTrue\u001b[0m\u001b[1;33m)\u001b[0m\u001b[1;33m\u001b[0m\u001b[1;33m\u001b[0m\u001b[0m\n\u001b[0m",
      "\u001b[1;31mNameError\u001b[0m: name 'df' is not defined"
     ]
    }
   ],
   "source": [
    "tr4w = TextRank4Keyword()\n",
    "tr4w.analyze(text=df, window=5, lower=True)\n"
   ]
  },
  {
   "cell_type": "code",
   "execution_count": 4,
   "metadata": {},
   "outputs": [
    {
     "ename": "NameError",
     "evalue": "name 'tr4w' is not defined",
     "output_type": "error",
     "traceback": [
      "\u001b[1;31m---------------------------------------------------------------------------\u001b[0m",
      "\u001b[1;31mNameError\u001b[0m                                 Traceback (most recent call last)",
      "\u001b[1;32m<ipython-input-4-990926ed2c36>\u001b[0m in \u001b[0;36m<module>\u001b[1;34m\u001b[0m\n\u001b[1;32m----> 1\u001b[1;33m \u001b[1;32mfor\u001b[0m \u001b[0mitem\u001b[0m \u001b[1;32min\u001b[0m \u001b[0mtr4w\u001b[0m\u001b[1;33m.\u001b[0m\u001b[0mget_keywords\u001b[0m\u001b[1;33m(\u001b[0m\u001b[0mnum\u001b[0m\u001b[1;33m=\u001b[0m\u001b[1;36m150\u001b[0m\u001b[1;33m,\u001b[0m \u001b[0mword_min_len\u001b[0m\u001b[1;33m=\u001b[0m\u001b[1;36m1\u001b[0m\u001b[1;33m)\u001b[0m\u001b[1;33m:\u001b[0m\u001b[1;33m\u001b[0m\u001b[1;33m\u001b[0m\u001b[0m\n\u001b[0m\u001b[0;32m      2\u001b[0m     \u001b[0mprint\u001b[0m \u001b[1;33m(\u001b[0m\u001b[0mitem\u001b[0m\u001b[1;33m.\u001b[0m\u001b[0mword\u001b[0m\u001b[1;33m,\u001b[0m \u001b[0mitem\u001b[0m\u001b[1;33m.\u001b[0m\u001b[0mweight\u001b[0m\u001b[1;33m)\u001b[0m\u001b[1;33m\u001b[0m\u001b[1;33m\u001b[0m\u001b[0m\n\u001b[0;32m      3\u001b[0m \u001b[1;33m\u001b[0m\u001b[0m\n",
      "\u001b[1;31mNameError\u001b[0m: name 'tr4w' is not defined"
     ]
    }
   ],
   "source": [
    "for item in tr4w.get_keywords(num=150, word_min_len=1):\n",
    "    print (item.word, item.weight)\n",
    "    "
   ]
  },
  {
   "cell_type": "code",
   "execution_count": 170,
   "metadata": {},
   "outputs": [
    {
     "data": {
      "text/plain": [
       "[{'word': '有限公司', 'weight': 0.0736963541541901},\n",
       " {'word': '医学', 'weight': 0.07159635613349999},\n",
       " {'word': '检验所', 'weight': 0.05519917272000909},\n",
       " {'word': '检验', 'weight': 0.03069683876337645},\n",
       " {'word': '实验室', 'weight': 0.028944334505932576},\n",
       " {'word': '北京', 'weight': 0.012693316001857864},\n",
       " {'word': '上海', 'weight': 0.009950986792084242},\n",
       " {'word': '科技', 'weight': 0.008503172395255186},\n",
       " {'word': '医疗', 'weight': 0.006453194504378983},\n",
       " {'word': 'nan', 'weight': 0.005936348499401885},\n",
       " {'word': '广州', 'weight': 0.0058944740059570806},\n",
       " {'word': '迪安', 'weight': 0.005854121720580467},\n",
       " {'word': '杭州', 'weight': 0.0054955198127162935},\n",
       " {'word': '康', 'weight': 0.005233239952680181},\n",
       " {'word': '技术', 'weight': 0.005084267742545056},\n",
       " {'word': '有限责任', 'weight': 0.005039636640890513},\n",
       " {'word': '生物科技', 'weight': 0.005010554794202126},\n",
       " {'word': '郑州', 'weight': 0.004687087707323099},\n",
       " {'word': '深圳', 'weight': 0.004686502199886712},\n",
       " {'word': '武汉', 'weight': 0.004679093032180118},\n",
       " {'word': '基因', 'weight': 0.004610137518782183},\n",
       " {'word': '重庆', 'weight': 0.0044673674308415914},\n",
       " {'word': '公司', 'weight': 0.004352120669995403},\n",
       " {'word': '金域', 'weight': 0.004016402615189684},\n",
       " {'word': '长沙', 'weight': 0.003986679094756043},\n",
       " {'word': '南京', 'weight': 0.003926630837635423},\n",
       " {'word': '天津', 'weight': 0.0036845277200636415},\n",
       " {'word': '合伙', 'weight': 0.003553676865848494},\n",
       " {'word': '安徽', 'weight': 0.003303362521273234},\n",
       " {'word': '成都', 'weight': 0.003230946302784267},\n",
       " {'word': '研究所', 'weight': 0.0032096535521788693},\n",
       " {'word': '湖南', 'weight': 0.003151067211037049},\n",
       " {'word': '股份', 'weight': 0.003013345649878034},\n",
       " {'word': '福州', 'weight': 0.003001969000720282},\n",
       " {'word': '精准', 'weight': 0.0029865814163319545},\n",
       " {'word': '苏州', 'weight': 0.0029506783006868357},\n",
       " {'word': '中心', 'weight': 0.0028933203388674185},\n",
       " {'word': '艾迪', 'weight': 0.0027858333170941575},\n",
       " {'word': '云南', 'weight': 0.0027640247998645057},\n",
       " {'word': '华大', 'weight': 0.0026909251988707973},\n",
       " {'word': '分公司', 'weight': 0.0026796872773670916},\n",
       " {'word': '兰卫', 'weight': 0.0026736372429212395},\n",
       " {'word': '合肥', 'weight': 0.0026464255733754023},\n",
       " {'word': '检测', 'weight': 0.0026295370056273514},\n",
       " {'word': '生物', 'weight': 0.0025787090180167034},\n",
       " {'word': '宁波', 'weight': 0.0025152271223081073},\n",
       " {'word': '河南', 'weight': 0.0024879668480760468},\n",
       " {'word': '美康', 'weight': 0.0024353841578691575},\n",
       " {'word': '寰基', 'weight': 0.00243154393905599},\n",
       " {'word': '盛德', 'weight': 0.0024142856598579087}]"
      ]
     },
     "execution_count": 170,
     "metadata": {},
     "output_type": "execute_result"
    }
   ],
   "source": [
    "tr4w.get_keywords(num=50, word_min_len=1)"
   ]
  },
  {
   "cell_type": "code",
   "execution_count": 16,
   "metadata": {},
   "outputs": [
    {
     "data": {
      "text/html": [
       "<div>\n",
       "<style scoped>\n",
       "    .dataframe tbody tr th:only-of-type {\n",
       "        vertical-align: middle;\n",
       "    }\n",
       "\n",
       "    .dataframe tbody tr th {\n",
       "        vertical-align: top;\n",
       "    }\n",
       "\n",
       "    .dataframe thead th {\n",
       "        text-align: right;\n",
       "    }\n",
       "</style>\n",
       "<table border=\"1\" class=\"dataframe\">\n",
       "  <thead>\n",
       "    <tr style=\"text-align: right;\">\n",
       "      <th></th>\n",
       "      <th>0</th>\n",
       "      <th>1</th>\n",
       "      <th>2</th>\n",
       "      <th>3</th>\n",
       "      <th>4</th>\n",
       "      <th>5</th>\n",
       "      <th>6</th>\n",
       "      <th>7</th>\n",
       "      <th>8</th>\n",
       "      <th>9</th>\n",
       "      <th>...</th>\n",
       "      <th>69</th>\n",
       "      <th>70</th>\n",
       "      <th>71</th>\n",
       "      <th>72</th>\n",
       "      <th>73</th>\n",
       "      <th>74</th>\n",
       "      <th>75</th>\n",
       "      <th>76</th>\n",
       "      <th>77</th>\n",
       "      <th>78</th>\n",
       "    </tr>\n",
       "  </thead>\n",
       "  <tbody>\n",
       "    <tr>\n",
       "      <th>0</th>\n",
       "      <td></td>\n",
       "      <td></td>\n",
       "      <td></td>\n",
       "      <td></td>\n",
       "      <td></td>\n",
       "      <td></td>\n",
       "      <td></td>\n",
       "      <td></td>\n",
       "      <td></td>\n",
       "      <td></td>\n",
       "      <td>...</td>\n",
       "      <td></td>\n",
       "      <td></td>\n",
       "      <td></td>\n",
       "      <td></td>\n",
       "      <td></td>\n",
       "      <td></td>\n",
       "      <td></td>\n",
       "      <td></td>\n",
       "      <td></td>\n",
       "      <td></td>\n",
       "    </tr>\n",
       "    <tr>\n",
       "      <th>1</th>\n",
       "      <td>上</td>\n",
       "      <td>上</td>\n",
       "      <td>上</td>\n",
       "      <td>上</td>\n",
       "      <td>上</td>\n",
       "      <td>上</td>\n",
       "      <td>上</td>\n",
       "      <td>上</td>\n",
       "      <td>上</td>\n",
       "      <td>上</td>\n",
       "      <td>...</td>\n",
       "      <td>上</td>\n",
       "      <td>上</td>\n",
       "      <td>上</td>\n",
       "      <td>上</td>\n",
       "      <td>上</td>\n",
       "      <td>上</td>\n",
       "      <td>上</td>\n",
       "      <td>上</td>\n",
       "      <td>上</td>\n",
       "      <td>上</td>\n",
       "    </tr>\n",
       "    <tr>\n",
       "      <th>2</th>\n",
       "      <td>海</td>\n",
       "      <td>海</td>\n",
       "      <td>海</td>\n",
       "      <td>海</td>\n",
       "      <td>海</td>\n",
       "      <td>海</td>\n",
       "      <td>海</td>\n",
       "      <td>海</td>\n",
       "      <td>海</td>\n",
       "      <td>海</td>\n",
       "      <td>...</td>\n",
       "      <td>海</td>\n",
       "      <td>海</td>\n",
       "      <td>海</td>\n",
       "      <td>海</td>\n",
       "      <td>海</td>\n",
       "      <td>海</td>\n",
       "      <td>海</td>\n",
       "      <td>海</td>\n",
       "      <td>海</td>\n",
       "      <td>海</td>\n",
       "    </tr>\n",
       "    <tr>\n",
       "      <th>3</th>\n",
       "      <td>方</td>\n",
       "      <td>兰</td>\n",
       "      <td>中</td>\n",
       "      <td>思</td>\n",
       "      <td>伯</td>\n",
       "      <td>千</td>\n",
       "      <td>裕</td>\n",
       "      <td>康</td>\n",
       "      <td>芯</td>\n",
       "      <td>亿</td>\n",
       "      <td>...</td>\n",
       "      <td>金</td>\n",
       "      <td>亚</td>\n",
       "      <td>裕</td>\n",
       "      <td>泰</td>\n",
       "      <td>英</td>\n",
       "      <td>荻</td>\n",
       "      <td>细</td>\n",
       "      <td>申</td>\n",
       "      <td>泰</td>\n",
       "      <td>世</td>\n",
       "    </tr>\n",
       "    <tr>\n",
       "      <th>4</th>\n",
       "      <td>程</td>\n",
       "      <td>卫</td>\n",
       "      <td>检</td>\n",
       "      <td>路</td>\n",
       "      <td>豪</td>\n",
       "      <td>麦</td>\n",
       "      <td>隆</td>\n",
       "      <td>黎</td>\n",
       "      <td>超</td>\n",
       "      <td>康</td>\n",
       "      <td>...</td>\n",
       "      <td>匙</td>\n",
       "      <td>可</td>\n",
       "      <td>隆</td>\n",
       "      <td>思</td>\n",
       "      <td>飞</td>\n",
       "      <td>硕</td>\n",
       "      <td>胞</td>\n",
       "      <td>医</td>\n",
       "      <td>思</td>\n",
       "      <td>济</td>\n",
       "    </tr>\n",
       "    <tr>\n",
       "      <th>5</th>\n",
       "      <td>医</td>\n",
       "      <td>医</td>\n",
       "      <td>医</td>\n",
       "      <td>迪</td>\n",
       "      <td>医</td>\n",
       "      <td>博</td>\n",
       "      <td>医</td>\n",
       "      <td>医</td>\n",
       "      <td>医</td>\n",
       "      <td>医</td>\n",
       "      <td>...</td>\n",
       "      <td>医</td>\n",
       "      <td>生</td>\n",
       "      <td>神</td>\n",
       "      <td>特</td>\n",
       "      <td>医</td>\n",
       "      <td>贝</td>\n",
       "      <td>治</td>\n",
       "      <td>生</td>\n",
       "      <td>特</td>\n",
       "      <td>医</td>\n",
       "    </tr>\n",
       "    <tr>\n",
       "      <th>6</th>\n",
       "      <td>学</td>\n",
       "      <td>学</td>\n",
       "      <td>学</td>\n",
       "      <td>医</td>\n",
       "      <td>学</td>\n",
       "      <td>米</td>\n",
       "      <td>学</td>\n",
       "      <td>学</td>\n",
       "      <td>学</td>\n",
       "      <td>学</td>\n",
       "      <td>...</td>\n",
       "      <td>学</td>\n",
       "      <td>物</td>\n",
       "      <td>光</td>\n",
       "      <td>生</td>\n",
       "      <td>疗</td>\n",
       "      <td>肯</td>\n",
       "      <td>疗</td>\n",
       "      <td>殖</td>\n",
       "      <td>医</td>\n",
       "      <td>学</td>\n",
       "    </tr>\n",
       "    <tr>\n",
       "      <th>7</th>\n",
       "      <td>检</td>\n",
       "      <td>检</td>\n",
       "      <td>检</td>\n",
       "      <td>学</td>\n",
       "      <td>检</td>\n",
       "      <td>乐</td>\n",
       "      <td>检</td>\n",
       "      <td>检</td>\n",
       "      <td>检</td>\n",
       "      <td>检</td>\n",
       "      <td>...</td>\n",
       "      <td>检</td>\n",
       "      <td>技</td>\n",
       "      <td>医</td>\n",
       "      <td>命</td>\n",
       "      <td>科</td>\n",
       "      <td>基</td>\n",
       "      <td>集</td>\n",
       "      <td>医</td>\n",
       "      <td>学</td>\n",
       "      <td>检</td>\n",
       "    </tr>\n",
       "    <tr>\n",
       "      <th>8</th>\n",
       "      <td>验</td>\n",
       "      <td>验</td>\n",
       "      <td>验</td>\n",
       "      <td>检</td>\n",
       "      <td>验</td>\n",
       "      <td>医</td>\n",
       "      <td>验</td>\n",
       "      <td>验</td>\n",
       "      <td>验</td>\n",
       "      <td>验</td>\n",
       "      <td>...</td>\n",
       "      <td>验</td>\n",
       "      <td>术</td>\n",
       "      <td>学</td>\n",
       "      <td>科</td>\n",
       "      <td>技</td>\n",
       "      <td>因</td>\n",
       "      <td>团</td>\n",
       "      <td>学</td>\n",
       "      <td>检</td>\n",
       "      <td>验</td>\n",
       "    </tr>\n",
       "    <tr>\n",
       "      <th>9</th>\n",
       "      <td>所</td>\n",
       "      <td>所</td>\n",
       "      <td>所</td>\n",
       "      <td>验</td>\n",
       "      <td>所</td>\n",
       "      <td>学</td>\n",
       "      <td>所</td>\n",
       "      <td>所</td>\n",
       "      <td>所</td>\n",
       "      <td>所</td>\n",
       "      <td>...</td>\n",
       "      <td>实</td>\n",
       "      <td>有</td>\n",
       "      <td>检</td>\n",
       "      <td>技</td>\n",
       "      <td>有</td>\n",
       "      <td>科</td>\n",
       "      <td>有</td>\n",
       "      <td>研</td>\n",
       "      <td>验</td>\n",
       "      <td>所</td>\n",
       "    </tr>\n",
       "    <tr>\n",
       "      <th>10</th>\n",
       "      <td>有</td>\n",
       "      <td>股</td>\n",
       "      <td>有</td>\n",
       "      <td>所</td>\n",
       "      <td>有</td>\n",
       "      <td>检</td>\n",
       "      <td>股</td>\n",
       "      <td>有</td>\n",
       "      <td>有</td>\n",
       "      <td>有</td>\n",
       "      <td>...</td>\n",
       "      <td>验</td>\n",
       "      <td>限</td>\n",
       "      <td>验</td>\n",
       "      <td>有</td>\n",
       "      <td>限</td>\n",
       "      <td>技</td>\n",
       "      <td>限</td>\n",
       "      <td>究</td>\n",
       "      <td>所</td>\n",
       "      <td></td>\n",
       "    </tr>\n",
       "    <tr>\n",
       "      <th>11</th>\n",
       "      <td>限</td>\n",
       "      <td>份</td>\n",
       "      <td>限</td>\n",
       "      <td>有</td>\n",
       "      <td>限</td>\n",
       "      <td>验</td>\n",
       "      <td>份</td>\n",
       "      <td>限</td>\n",
       "      <td>限</td>\n",
       "      <td>限</td>\n",
       "      <td>...</td>\n",
       "      <td>室</td>\n",
       "      <td>公</td>\n",
       "      <td>实</td>\n",
       "      <td>限</td>\n",
       "      <td>公</td>\n",
       "      <td>有</td>\n",
       "      <td>公</td>\n",
       "      <td>所</td>\n",
       "      <td></td>\n",
       "      <td>None</td>\n",
       "    </tr>\n",
       "    <tr>\n",
       "      <th>12</th>\n",
       "      <td>公</td>\n",
       "      <td>有</td>\n",
       "      <td>公</td>\n",
       "      <td>限</td>\n",
       "      <td>公</td>\n",
       "      <td>所</td>\n",
       "      <td>有</td>\n",
       "      <td>公</td>\n",
       "      <td>公</td>\n",
       "      <td>公</td>\n",
       "      <td>...</td>\n",
       "      <td>有</td>\n",
       "      <td>司</td>\n",
       "      <td>验</td>\n",
       "      <td>公</td>\n",
       "      <td>司</td>\n",
       "      <td>限</td>\n",
       "      <td>司</td>\n",
       "      <td></td>\n",
       "      <td>None</td>\n",
       "      <td>None</td>\n",
       "    </tr>\n",
       "    <tr>\n",
       "      <th>13</th>\n",
       "      <td>司</td>\n",
       "      <td>限</td>\n",
       "      <td>司</td>\n",
       "      <td>公</td>\n",
       "      <td>司</td>\n",
       "      <td>有</td>\n",
       "      <td>限</td>\n",
       "      <td>司</td>\n",
       "      <td>司</td>\n",
       "      <td>司</td>\n",
       "      <td>...</td>\n",
       "      <td>限</td>\n",
       "      <td></td>\n",
       "      <td>室</td>\n",
       "      <td>司</td>\n",
       "      <td></td>\n",
       "      <td>公</td>\n",
       "      <td></td>\n",
       "      <td>None</td>\n",
       "      <td>None</td>\n",
       "      <td>None</td>\n",
       "    </tr>\n",
       "    <tr>\n",
       "      <th>14</th>\n",
       "      <td></td>\n",
       "      <td>公</td>\n",
       "      <td></td>\n",
       "      <td>司</td>\n",
       "      <td></td>\n",
       "      <td>限</td>\n",
       "      <td>公</td>\n",
       "      <td></td>\n",
       "      <td></td>\n",
       "      <td></td>\n",
       "      <td>...</td>\n",
       "      <td>公</td>\n",
       "      <td>None</td>\n",
       "      <td>有</td>\n",
       "      <td></td>\n",
       "      <td>None</td>\n",
       "      <td>司</td>\n",
       "      <td>None</td>\n",
       "      <td>None</td>\n",
       "      <td>None</td>\n",
       "      <td>None</td>\n",
       "    </tr>\n",
       "    <tr>\n",
       "      <th>15</th>\n",
       "      <td>None</td>\n",
       "      <td>司</td>\n",
       "      <td>None</td>\n",
       "      <td></td>\n",
       "      <td>None</td>\n",
       "      <td>公</td>\n",
       "      <td>司</td>\n",
       "      <td>None</td>\n",
       "      <td>None</td>\n",
       "      <td>None</td>\n",
       "      <td>...</td>\n",
       "      <td>司</td>\n",
       "      <td>None</td>\n",
       "      <td>限</td>\n",
       "      <td>None</td>\n",
       "      <td>None</td>\n",
       "      <td></td>\n",
       "      <td>None</td>\n",
       "      <td>None</td>\n",
       "      <td>None</td>\n",
       "      <td>None</td>\n",
       "    </tr>\n",
       "    <tr>\n",
       "      <th>16</th>\n",
       "      <td>None</td>\n",
       "      <td></td>\n",
       "      <td>None</td>\n",
       "      <td>None</td>\n",
       "      <td>None</td>\n",
       "      <td>司</td>\n",
       "      <td></td>\n",
       "      <td>None</td>\n",
       "      <td>None</td>\n",
       "      <td>None</td>\n",
       "      <td>...</td>\n",
       "      <td></td>\n",
       "      <td>None</td>\n",
       "      <td>公</td>\n",
       "      <td>None</td>\n",
       "      <td>None</td>\n",
       "      <td>None</td>\n",
       "      <td>None</td>\n",
       "      <td>None</td>\n",
       "      <td>None</td>\n",
       "      <td>None</td>\n",
       "    </tr>\n",
       "    <tr>\n",
       "      <th>17</th>\n",
       "      <td>None</td>\n",
       "      <td>None</td>\n",
       "      <td>None</td>\n",
       "      <td>None</td>\n",
       "      <td>None</td>\n",
       "      <td></td>\n",
       "      <td>None</td>\n",
       "      <td>None</td>\n",
       "      <td>None</td>\n",
       "      <td>None</td>\n",
       "      <td>...</td>\n",
       "      <td>None</td>\n",
       "      <td>None</td>\n",
       "      <td>司</td>\n",
       "      <td>None</td>\n",
       "      <td>None</td>\n",
       "      <td>None</td>\n",
       "      <td>None</td>\n",
       "      <td>None</td>\n",
       "      <td>None</td>\n",
       "      <td>None</td>\n",
       "    </tr>\n",
       "    <tr>\n",
       "      <th>18</th>\n",
       "      <td>None</td>\n",
       "      <td>None</td>\n",
       "      <td>None</td>\n",
       "      <td>None</td>\n",
       "      <td>None</td>\n",
       "      <td>None</td>\n",
       "      <td>None</td>\n",
       "      <td>None</td>\n",
       "      <td>None</td>\n",
       "      <td>None</td>\n",
       "      <td>...</td>\n",
       "      <td>None</td>\n",
       "      <td>None</td>\n",
       "      <td></td>\n",
       "      <td>None</td>\n",
       "      <td>None</td>\n",
       "      <td>None</td>\n",
       "      <td>None</td>\n",
       "      <td>None</td>\n",
       "      <td>None</td>\n",
       "      <td>None</td>\n",
       "    </tr>\n",
       "    <tr>\n",
       "      <th>19</th>\n",
       "      <td>None</td>\n",
       "      <td>None</td>\n",
       "      <td>None</td>\n",
       "      <td>None</td>\n",
       "      <td>None</td>\n",
       "      <td>None</td>\n",
       "      <td>None</td>\n",
       "      <td>None</td>\n",
       "      <td>None</td>\n",
       "      <td>None</td>\n",
       "      <td>...</td>\n",
       "      <td>None</td>\n",
       "      <td>None</td>\n",
       "      <td>None</td>\n",
       "      <td>None</td>\n",
       "      <td>None</td>\n",
       "      <td>None</td>\n",
       "      <td>None</td>\n",
       "      <td>None</td>\n",
       "      <td>None</td>\n",
       "      <td>None</td>\n",
       "    </tr>\n",
       "  </tbody>\n",
       "</table>\n",
       "<p>20 rows × 79 columns</p>\n",
       "</div>"
      ],
      "text/plain": [
       "      0     1     2     3     4     5     6     7     8     9   ...    69  \\\n",
       "0                                                               ...         \n",
       "1      上     上     上     上     上     上     上     上     上     上  ...     上   \n",
       "2      海     海     海     海     海     海     海     海     海     海  ...     海   \n",
       "3      方     兰     中     思     伯     千     裕     康     芯     亿  ...     金   \n",
       "4      程     卫     检     路     豪     麦     隆     黎     超     康  ...     匙   \n",
       "5      医     医     医     迪     医     博     医     医     医     医  ...     医   \n",
       "6      学     学     学     医     学     米     学     学     学     学  ...     学   \n",
       "7      检     检     检     学     检     乐     检     检     检     检  ...     检   \n",
       "8      验     验     验     检     验     医     验     验     验     验  ...     验   \n",
       "9      所     所     所     验     所     学     所     所     所     所  ...     实   \n",
       "10     有     股     有     所     有     检     股     有     有     有  ...     验   \n",
       "11     限     份     限     有     限     验     份     限     限     限  ...     室   \n",
       "12     公     有     公     限     公     所     有     公     公     公  ...     有   \n",
       "13     司     限     司     公     司     有     限     司     司     司  ...     限   \n",
       "14           公           司           限     公                    ...     公   \n",
       "15  None     司  None        None     公     司  None  None  None  ...     司   \n",
       "16  None        None  None  None     司        None  None  None  ...         \n",
       "17  None  None  None  None  None        None  None  None  None  ...  None   \n",
       "18  None  None  None  None  None  None  None  None  None  None  ...  None   \n",
       "19  None  None  None  None  None  None  None  None  None  None  ...  None   \n",
       "\n",
       "      70    71    72    73    74    75    76    77    78  \n",
       "0                                                         \n",
       "1      上     上     上     上     上     上     上     上     上  \n",
       "2      海     海     海     海     海     海     海     海     海  \n",
       "3      亚     裕     泰     英     荻     细     申     泰     世  \n",
       "4      可     隆     思     飞     硕     胞     医     思     济  \n",
       "5      生     神     特     医     贝     治     生     特     医  \n",
       "6      物     光     生     疗     肯     疗     殖     医     学  \n",
       "7      技     医     命     科     基     集     医     学     检  \n",
       "8      术     学     科     技     因     团     学     检     验  \n",
       "9      有     检     技     有     科     有     研     验     所  \n",
       "10     限     验     有     限     技     限     究     所        \n",
       "11     公     实     限     公     有     公     所        None  \n",
       "12     司     验     公     司     限     司        None  None  \n",
       "13           室     司           公        None  None  None  \n",
       "14  None     有        None     司  None  None  None  None  \n",
       "15  None     限  None  None        None  None  None  None  \n",
       "16  None     公  None  None  None  None  None  None  None  \n",
       "17  None     司  None  None  None  None  None  None  None  \n",
       "18  None        None  None  None  None  None  None  None  \n",
       "19  None  None  None  None  None  None  None  None  None  \n",
       "\n",
       "[20 rows x 79 columns]"
      ]
     },
     "execution_count": 16,
     "metadata": {},
     "output_type": "execute_result"
    }
   ],
   "source": [
    "sy_name.T"
   ]
  },
  {
   "cell_type": "code",
   "execution_count": null,
   "metadata": {},
   "outputs": [],
   "source": []
  }
 ],
 "metadata": {
  "kernelspec": {
   "display_name": "Python 3",
   "language": "python",
   "name": "python3"
  },
  "language_info": {
   "codemirror_mode": {
    "name": "ipython",
    "version": 3
   },
   "file_extension": ".py",
   "mimetype": "text/x-python",
   "name": "python",
   "nbconvert_exporter": "python",
   "pygments_lexer": "ipython3",
   "version": "3.7.6"
  }
 },
 "nbformat": 4,
 "nbformat_minor": 4
}
